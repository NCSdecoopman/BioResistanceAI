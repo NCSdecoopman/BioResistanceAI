{
 "cells": [
  {
   "attachments": {},
   "cell_type": "markdown",
   "metadata": {},
   "source": [
    "## Regregression logistique"
   ]
  },
  {
   "cell_type": "code",
   "execution_count": 2,
   "metadata": {},
   "outputs": [],
   "source": [
    "import pandas as pd\n",
    "import numpy as np\n",
    "import matplotlib.pyplot as plt\n",
    "import seaborn as sns\n",
    "from sklearn.preprocessing import StandardScaler\n",
    "from sklearn.model_selection import train_test_split, GridSearchCV\n",
    "from sklearn.ensemble import RandomForestClassifier\n",
    "import pickle\n",
    "\n",
    "# Charger les données\n",
    "file = open('data/raw/dataset.pkl', 'rb')\n",
    "DATA = pickle.load(file)\n",
    "pheno = DATA['pheno']\n",
    "X_gpa = DATA['X_gpa']\n",
    "X_snps = DATA['X_snps']\n",
    "X_genexp = DATA['X_genexp']"
   ]
  },
  {
   "cell_type": "code",
   "execution_count": 5,
   "metadata": {},
   "outputs": [
    {
     "data": {
      "text/plain": [
       "array([[-1.12876069, -0.81779089, -1.69142345, ...,  1.02347764,\n",
       "        -1.15085433,  0.24994568],\n",
       "       [-1.12876069, -0.35287294, -2.53190989, ..., -0.99980795,\n",
       "        -1.18807964, -1.2716658 ],\n",
       "       [ 0.26680539, -0.39662847, -0.95591998, ..., -0.22666416,\n",
       "         0.18241751, -0.3702671 ],\n",
       "       ...,\n",
       "       [-0.43097765, -0.58287845, -0.99612165, ...,  0.35819654,\n",
       "         0.37939308, -0.3702671 ],\n",
       "       [ 1.45334338,  0.56409601,  1.02908939, ...,  0.2692959 ,\n",
       "         0.06217161,  0.87786711],\n",
       "       [-0.43097765,  0.34107776,  1.38943538, ..., -0.22666416,\n",
       "         0.56298516,  0.56676242]])"
      ]
     },
     "execution_count": 5,
     "metadata": {},
     "output_type": "execute_result"
    }
   ],
   "source": [
    "X_genexp"
   ]
  },
  {
   "cell_type": "code",
   "execution_count": 2,
   "metadata": {},
   "outputs": [],
   "source": [
    "from sklearn.model_selection import train_test_split, GridSearchCV\n",
    "from sklearn.metrics import recall_score\n",
    "\n",
    "def refine_and_evaluate_model(pheno, X_gpa, X_snps, X_genexp, model, param_grid, model_name):\n",
    "    performances = []\n",
    "    hyperparams_records = []\n",
    "\n",
    "    for antibiotique in pheno.columns[1:]:\n",
    "        print(f\"Traitement de l'antibiotique : {antibiotique}\")\n",
    "\n",
    "        # Extraire la cible (y) et les indices valides\n",
    "        y = pheno[antibiotique].to_numpy()\n",
    "        valid_indices = ~np.isnan(y)\n",
    "        y = y[valid_indices]\n",
    "\n",
    "        # Filtrer les matrices explicatives\n",
    "        X_gpa_filtered = X_gpa[valid_indices]\n",
    "        X_snps_filtered = X_snps[valid_indices]\n",
    "        X_genexp_filtered = X_genexp[valid_indices]\n",
    "\n",
    "        # Diviser les données en train/test avec stratification\n",
    "\n",
    "        X_gpa_train, X_gpa_test, X_snps_train, X_snps_test, X_genexp_train, X_genexp_test, y_train, y_test = train_test_split(\n",
    "            X_gpa_filtered, X_snps_filtered, X_genexp_filtered, y, \n",
    "            test_size=0.2, random_state=42, stratify=y\n",
    "        )\n",
    "\n",
    "        scaler_genexp = StandardScaler()\n",
    "        X_genexp_train = scaler_genexp.fit_transform(X_genexp_train)  # Fit + transform sur l'entraînement\n",
    "        X_genexp_test = scaler_genexp.transform(X_genexp_test)        # Transform uniquement sur le test\n",
    "\n",
    "        # Construire les matrices combinées pour train et test\n",
    "        X_train = np.hstack([X_gpa_train, X_snps_train, X_genexp_train])\n",
    "        X_test = np.hstack([X_gpa_test, X_snps_test, X_genexp_test])\n",
    "\n",
    "        # Grid Search pour Random Forest\n",
    "        grid_search = GridSearchCV(model, param_grid, cv=5, scoring='recall', verbose=1)\n",
    "        grid_search.fit(X_train, y_train)\n",
    "\n",
    "        # Meilleur modèle\n",
    "        meilleur_modele = grid_search.best_estimator_\n",
    "\n",
    "        # Prédire sur l'ensemble de test\n",
    "        y_pred = meilleur_modele.predict(X_test)\n",
    "\n",
    "        # Calculer le macro recall\n",
    "        rappel_macro = recall_score(y_test, y_pred, average='macro')\n",
    "        print(f\"Rappel macro pour {antibiotique} avec {model_name}: {rappel_macro:.4f}\")\n",
    "\n",
    "        # Identifier les coefficients non nuls\n",
    "        coefficients = meilleur_modele.coef_[0]  \n",
    "        non_zero_indices = np.where(coefficients != 0)[0]  \n",
    "\n",
    "        colonnes_gpa = non_zero_indices[non_zero_indices < X_gpa_filtered.shape[1]]\n",
    "        colonnes_snps = non_zero_indices[\n",
    "            (non_zero_indices >= X_gpa_filtered.shape[1]) &\n",
    "            (non_zero_indices < X_gpa_filtered.shape[1] + X_snps_filtered.shape[1])\n",
    "        ] - X_gpa_filtered.shape[1]\n",
    "        colonnes_genexp = non_zero_indices[\n",
    "            non_zero_indices >= X_gpa_filtered.shape[1] + X_snps_filtered.shape[1]\n",
    "        ] - (X_gpa_filtered.shape[1] + X_snps_filtered.shape[1])\n",
    "\n",
    "        # Stocker les performances pour chaque antibiotique\n",
    "        performances.append({\n",
    "            'Antibiotique': antibiotique,\n",
    "            'Recall': rappel_macro,\n",
    "            'Colonnes_GPA': colonnes_gpa.tolist(),\n",
    "            'Colonnes_SNPs': colonnes_snps.tolist(),\n",
    "            'Colonnes_Expression_Genetique': colonnes_genexp.tolist()\n",
    "        })\n",
    "\n",
    "        # Stocker les hyperparamètres\n",
    "        hyperparams_records.append({\n",
    "            'Antibiotique': antibiotique,\n",
    "            'Meilleur_paramètre': grid_search.best_params_,\n",
    "            'Valeurs_des_hyperparamètres': param_grid\n",
    "        })\n",
    "\n",
    "    performances_df = pd.DataFrame(performances)\n",
    "\n",
    "    # fichier CSV \n",
    "    \n",
    "    csv_filename = f'result_{model_name}.csv'\n",
    "    performances_df.to_csv(csv_filename, index=False, sep=';')\n",
    "\n",
    "    hyperparams_df = pd.DataFrame(hyperparams_records)\n",
    "\n",
    "    # Générer un fichier CSV pour les hyperparamètres\n",
    "    hyperparams_csv_filename = f'param_{model_name}.csv'\n",
    "    hyperparams_df.to_csv(hyperparams_csv_filename, index=False, sep=';')\n",
    "\n",
    "    return performances_df"
   ]
  },
  {
   "cell_type": "markdown",
   "metadata": {},
   "source": [
    "Au vu de la grande dimension p >> n et de la multicolinéarité, on choisit en premier lieu de pénaliser.\n",
    "L'étude préalable a montré que seulement quelques variables semblent être utiles."
   ]
  },
  {
   "cell_type": "code",
   "execution_count": 3,
   "metadata": {},
   "outputs": [
    {
     "name": "stdout",
     "output_type": "stream",
     "text": [
      "Traitement de l'antibiotique : Tobramycin\n",
      "Fitting 5 folds for each of 10 candidates, totalling 50 fits\n",
      "Rappel macro pour Tobramycin avec LogisticRegression_L1: 0.9540\n",
      "Traitement de l'antibiotique : Ceftazidim\n",
      "Fitting 5 folds for each of 10 candidates, totalling 50 fits\n",
      "Rappel macro pour Ceftazidim avec LogisticRegression_L1: 0.8209\n",
      "Traitement de l'antibiotique : Ciprofloxacin\n",
      "Fitting 5 folds for each of 10 candidates, totalling 50 fits\n",
      "Rappel macro pour Ciprofloxacin avec LogisticRegression_L1: 0.8562\n",
      "Traitement de l'antibiotique : Meropenem\n",
      "Fitting 5 folds for each of 10 candidates, totalling 50 fits\n",
      "Rappel macro pour Meropenem avec LogisticRegression_L1: 0.8683\n",
      "Traitement de l'antibiotique : Colistin\n",
      "Fitting 5 folds for each of 10 candidates, totalling 50 fits\n",
      "Rappel macro pour Colistin avec LogisticRegression_L1: 0.7687\n",
      "\n",
      "Performances du modèle:\n",
      "    Antibiotique    Recall                                       Colonnes_GPA  \\\n",
      "0     Tobramycin  0.953984                [14347, 15032, 15265, 15318, 15791]   \n",
      "1     Ceftazidim  0.820856                                                 []   \n",
      "2  Ciprofloxacin  0.856250     [216, 5475, 14271, 14347, 15155, 15318, 15561]   \n",
      "3      Meropenem  0.868275  [10089, 12154, 15202, 15470, 15581, 15617, 156...   \n",
      "4       Colistin  0.768717                              [14090, 14835, 15604]   \n",
      "\n",
      "                                       Colonnes_SNPs  \\\n",
      "0                                            [67466]   \n",
      "1                                            [40039]   \n",
      "2                                            [41867]   \n",
      "3  [38906, 41646, 41760, 56455, 56458, 56463, 564...   \n",
      "4                [47760, 56972, 58575, 66631, 71827]   \n",
      "\n",
      "                       Colonnes_Expression_Genetique  \n",
      "0  [181, 264, 674, 681, 813, 1124, 1163, 1240, 12...  \n",
      "1  [36, 59, 109, 180, 444, 657, 805, 877, 959, 12...  \n",
      "2  [454, 564, 639, 667, 674, 876, 1121, 1123, 124...  \n",
      "3  [198, 454, 455, 520, 695, 1072, 1156, 1242, 12...  \n",
      "4  [232, 267, 427, 522, 598, 644, 761, 764, 1051,...  \n"
     ]
    }
   ],
   "source": [
    "from sklearn.linear_model import LogisticRegression\n",
    "\n",
    "model = LogisticRegression(solver='liblinear', penalty='l1', max_iter=500)\n",
    "param_grid = {\n",
    "    'C': [0.01, 0.1, 1, 10, 100],  # Paramètres pour la régularisation\n",
    "    'class_weight': ['balanced', None]\n",
    "}\n",
    "\n",
    "performances_df = refine_and_evaluate_model(pheno, X_gpa, X_snps, X_genexp, model, param_grid, \"LogisticRegression_L1\")\n",
    "\n",
    "print(\"\\nPerformances du modèle:\")\n",
    "print(performances_df)"
   ]
  }
 ],
 "metadata": {
  "kernelspec": {
   "display_name": "appstat",
   "language": "python",
   "name": "python3"
  },
  "language_info": {
   "codemirror_mode": {
    "name": "ipython",
    "version": 3
   },
   "file_extension": ".py",
   "mimetype": "text/x-python",
   "name": "python",
   "nbconvert_exporter": "python",
   "pygments_lexer": "ipython3",
   "version": "3.8.20"
  },
  "orig_nbformat": 4,
  "vscode": {
   "interpreter": {
    "hash": "bd04a07178aaae6d35cc1d127ce12c3d2f223a3b77921ea54c5ce1c2a16305fa"
   }
  }
 },
 "nbformat": 4,
 "nbformat_minor": 2
}
