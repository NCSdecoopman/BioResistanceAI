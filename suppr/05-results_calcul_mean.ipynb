{
 "cells": [
  {
   "cell_type": "code",
   "execution_count": 1,
   "metadata": {},
   "outputs": [],
   "source": [
    "import pandas as pd\n",
    "import os\n",
    "import ast\n",
    "\n",
    "def calculate_mean_recall_and_column_percentages(directory):\n",
    "    # Initialiser les dictionnaires pour stocker les recalls et les colonnes\n",
    "    recall_data = {}\n",
    "    column_counts = {}\n",
    "\n",
    "    # Parcourir les fichiers dans le répertoire dans l'ordre alphabétique\n",
    "    for file_name in sorted(os.listdir(directory)):\n",
    "        if file_name.startswith(\"result_\") and file_name.endswith(\".csv\"):\n",
    "            model_name = file_name[len(\"result_\"):-4]  # Extraire le nom du modèle à partir du nom du fichier\n",
    "            file_path = os.path.join(directory, file_name)\n",
    "\n",
    "            # Lire le fichier CSV\n",
    "            df = pd.read_csv(file_path, sep=';')\n",
    "\n",
    "            for _, row in df.iterrows():\n",
    "                antibiotic = row['Antibiotique']\n",
    "                recall = row['Recall']\n",
    "                gpa_columns = ast.literal_eval(row['Colonnes_GPA'])\n",
    "                snps_columns = ast.literal_eval(row['Colonnes_SNPs'])\n",
    "                genexp_columns = ast.literal_eval(row['Colonnes_Expression_Genetique'])\n",
    "\n",
    "                # Mettre à jour les données de recall\n",
    "                if antibiotic not in recall_data:\n",
    "                    recall_data[antibiotic] = {}\n",
    "                recall_data[antibiotic][model_name] = recall\n",
    "\n",
    "                # Mettre à jour les données de comptes de colonnes\n",
    "                if antibiotic not in column_counts:\n",
    "                    column_counts[antibiotic] = {}\n",
    "                column_counts[antibiotic][model_name] = {\n",
    "                    'GPA': len(gpa_columns),\n",
    "                    'SNPs': len(snps_columns),\n",
    "                    'GenExp': len(genexp_columns)\n",
    "                }\n",
    "\n",
    "    # Créer un DataFrame à partir des données de recall\n",
    "    recall_df = pd.DataFrame(recall_data).T\n",
    "\n",
    "    # Calculer le recall moyen par modèle\n",
    "    mean_recall_by_model = recall_df.mean(axis=0).to_frame(name='Recall_Mean_By_Model')\n",
    "\n",
    "    # Calculer le recall moyen par antibiotique\n",
    "    mean_recall_by_antibiotic = recall_df.mean(axis=1).to_frame(name='Recall_Mean_By_Antibiotic')\n",
    "\n",
    "    # Calculer les pourcentages de colonnes sélectionnées\n",
    "    column_percentage_dfs = {}\n",
    "    for col_type in ['GPA', 'SNPs', 'GenExp']:\n",
    "        col_df = pd.DataFrame({\n",
    "            antibiotic: {\n",
    "                model: (data[col_type] / sum(data.values()) * 100 if sum(data.values()) > 0 else 0)\n",
    "                for model, data in models.items()\n",
    "            }\n",
    "            for antibiotic, models in column_counts.items()\n",
    "        }).T\n",
    "\n",
    "        # Calculer les stats min, max, et moyennes\n",
    "        col_df['Min_Percentage'] = col_df.min(axis=1)\n",
    "        col_df['Max_Percentage'] = col_df.max(axis=1)\n",
    "        col_df['Mean_Percentage'] = col_df.mean(axis=1)\n",
    "\n",
    "        # Conserver uniquement les statistiques\n",
    "        column_percentage_dfs[col_type] = col_df[['Min_Percentage', 'Max_Percentage', 'Mean_Percentage']]\n",
    "\n",
    "    return mean_recall_by_model, mean_recall_by_antibiotic, column_percentage_dfs"
   ]
  },
  {
   "cell_type": "code",
   "execution_count": 2,
   "metadata": {},
   "outputs": [
    {
     "name": "stdout",
     "output_type": "stream",
     "text": [
      "                  Recall_Mean_By_Model\n",
      "1) LGR FDR                    0.787872\n",
      "2) LGR L1                     0.853616\n",
      "3) SVM                        0.623030\n",
      "4) Random Forest              0.704612\n",
      "5) XGBoost                    0.814208\n",
      "6) MLP                        0.654601\n",
      "               Recall_Mean_By_Antibiotic\n",
      "Tobramycin                      0.916708\n",
      "Ceftazidim                      0.696866\n",
      "Ciprofloxacin                   0.771413\n",
      "Meropenem                       0.686466\n",
      "Colistin                        0.626830\n"
     ]
    }
   ],
   "source": [
    "directory = \"result\"\n",
    "mean_recall_by_model, mean_recall_by_antibiotic, column_percentage_dfs = calculate_mean_recall_and_column_percentages(directory)\n",
    "print(mean_recall_by_model)\n",
    "print(mean_recall_by_antibiotic)"
   ]
  }
 ],
 "metadata": {
  "kernelspec": {
   "display_name": "appstat",
   "language": "python",
   "name": "python3"
  },
  "language_info": {
   "codemirror_mode": {
    "name": "ipython",
    "version": 3
   },
   "file_extension": ".py",
   "mimetype": "text/x-python",
   "name": "python",
   "nbconvert_exporter": "python",
   "pygments_lexer": "ipython3",
   "version": "3.8.20"
  }
 },
 "nbformat": 4,
 "nbformat_minor": 2
}
